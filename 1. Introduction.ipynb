{
 "cells": [
  {
   "cell_type": "markdown",
   "metadata": {},
   "source": [
    "# Introduction into Python and Jupyter Notebook"
   ]
  },
  {
   "cell_type": "markdown",
   "metadata": {},
   "source": [
    "## Jupyter notebook basics\n",
    "\n",
    "All future code will be written in Jupyter Notebook which consists of cells. This text is itself in cell. <br>\n",
    "There are two types of cells:"
   ]
  },
  {
   "cell_type": "markdown",
   "metadata": {},
   "source": [
    "1) Code Cell - to create new cell of this type press \"+\" button and chose \"Code\" type in the same pannel. All Python code should be written in cells of this type, otherwise code won't be interpretated as code and machine will think that this is just a plain text. <br> To run code cell you should press \"Run\" button or press Shift-Enter. To stop execution of code cell you should press \"Stop\" button which is right next to \"Run\" button."
   ]
  },
  {
   "cell_type": "code",
   "execution_count": null,
   "metadata": {
    "collapsed": true
   },
   "outputs": [],
   "source": [
    "a=2\n",
    "b=a+a"
   ]
  },
  {
   "cell_type": "markdown",
   "metadata": {},
   "source": [
    "2) Text Cell - to create new cell of this type press \"+\" button and chose \"Markdown\" type in the same pannel. This type of cells is usually used for creating quite large comments regarding the code. "
   ]
  },
  {
   "cell_type": "markdown",
   "metadata": {},
   "source": [
    "This it text cell <br>To convert cell from plain text to beautiful one just press \"Run\" button or Shift-Enter. And to return to redact mode you should double click the cell"
   ]
  },
  {
   "cell_type": "markdown",
   "metadata": {},
   "source": [
    "As you can see, before code cell there is written \"In [ ]:\", while before text cell there is not. If you run code cell, the number, which tells how many operations have you done from the oppening of this notebook, appears in brackets. For example, if you run code cell above, its heading changes like \"In [1]:\" and if you run it twice it is \"In [2]:\". If you run time-consuming operation, heading of its cell might became \"In [$*$]:\", which means that machine is busy and you will need to wait."
   ]
  },
  {
   "cell_type": "markdown",
   "metadata": {},
   "source": [
    "## Python basics"
   ]
  },
  {
   "cell_type": "markdown",
   "metadata": {},
   "source": [
    "Code cells are written in language Python which has very easy ans user-friendly interface. Its abstracness, simplicity and wide range libraries makes it a perfect candidate for this course. <br>\n",
    "Let's introduce some basic concepts of this language:"
   ]
  },
  {
   "cell_type": "markdown",
   "metadata": {},
   "source": [
    "### Print"
   ]
  },
  {
   "cell_type": "markdown",
   "metadata": {},
   "source": [
    "It is very useful to print out computed values. In order to do that you can use function print() just like in example:"
   ]
  },
  {
   "cell_type": "code",
   "execution_count": null,
   "metadata": {
    "collapsed": true
   },
   "outputs": [],
   "source": [
    "a=2\n",
    "print(\"a is equal to\", a)"
   ]
  },
  {
   "cell_type": "markdown",
   "metadata": {},
   "source": [
    "As it it shown in the example, you can print out unlimited number of variables or strings by separating them with coma. Then their values or just strings will be printed out separated with space."
   ]
  },
  {
   "cell_type": "markdown",
   "metadata": {},
   "source": [
    "### Variables"
   ]
  },
  {
   "cell_type": "markdown",
   "metadata": {},
   "source": [
    "Python is dynamically typed language which means that its variables doesn't have a type, only Python *values* carry type. In result, you can use the same variable wherever you want."
   ]
  },
  {
   "cell_type": "code",
   "execution_count": null,
   "metadata": {
    "collapsed": true
   },
   "outputs": [],
   "source": [
    "x=4\n",
    "print(\"x =\",x)\n",
    "print(\"2*x =\",2*x)\n",
    "#this is commentary in python - you just need to type \"#\" and all written till the end of string will be commentary\n",
    "#now we are assigning a value with a completely new type (string type) to a variable x whose value before was numerical (x=4) \n",
    "x='abc'\n",
    "print(x)\n",
    "#as you can see no error occured"
   ]
  },
  {
   "cell_type": "markdown",
   "metadata": {},
   "source": [
    "But, for instance, if you try to run numerical operation with a variable whose value is a string, you might get an error (TypeError)"
   ]
  },
  {
   "cell_type": "code",
   "execution_count": null,
   "metadata": {
    "collapsed": true
   },
   "outputs": [],
   "source": [
    "x='abc'\n",
    "print(x*x)"
   ]
  },
  {
   "cell_type": "markdown",
   "metadata": {},
   "source": [
    "**Jupyter notebook remembers current values of ALL variables you used from opening of notebook till closure of command line with Jupyter server. That it is why you can interpret all notebook as a big program. But if you reassign some variable you are going to completely lose its previous value.**"
   ]
  },
  {
   "cell_type": "markdown",
   "metadata": {},
   "source": [
    "### Types of values"
   ]
  },
  {
   "cell_type": "markdown",
   "metadata": {},
   "source": [
    "|Type |       Description                                               |    Example of assigning     |\n",
    "|-----|-----------------------------------------------------------------|-----------------------------|\n",
    "|bool |true or false                                                    |a=True b=False               |\n",
    "|int  |integer                                                          |a=2                          |\n",
    "|float|floating point number                                            |a=2.71828                    |\n",
    "|str  |sequence of Unicode characters - string                          |a=\"Hello world!\"             |\n",
    "|list |list, which can contain mixed types                              |a=[1,2,3] b=[1,\"j\",False]    |\n",
    "|dict |dictionary with different keys, each one corresponds to the value|a={1:\"one\",2:\"two\",3:\"three\"}|\n",
    "You can write float number in scientific form like 9.5E+6, which means $9.5*10^6=9500000$ <br>\n",
    "You can convert float to int with function int(): int(5.1)=5"
   ]
  },
  {
   "cell_type": "markdown",
   "metadata": {},
   "source": [
    "### Mathematical operations"
   ]
  },
  {
   "cell_type": "markdown",
   "metadata": {},
   "source": [
    "Python has 7 main mathematical operators: \"+\", \"-\", \"$*$\", \"/\", \"//\", \"%\", \"$**$\""
   ]
  },
  {
   "cell_type": "code",
   "execution_count": null,
   "metadata": {
    "collapsed": true
   },
   "outputs": [],
   "source": [
    "#addition\n",
    "print(\"3+2 =\", 3+2)\n",
    "#substraction\n",
    "print(\"3-2 =\", 3-2)\n",
    "#multiplication\n",
    "print(\"3*2 =\", 3*2) \n",
    "#floating-point division\n",
    "print(\"3/2 =\", 3/2)\n",
    "#floor division\n",
    "print(\"3//2 =\", 3//2)\n",
    "print(\"10//3 =\", 10//3)\n",
    "print(\"6//3 =\", 6//3)\n",
    "#remainder of division\n",
    "print(\"11%3 =\", 11%3)\n",
    "#power function\n",
    "print(\"11**3 =\", 11**3)"
   ]
  },
  {
   "cell_type": "markdown",
   "metadata": {},
   "source": [
    "Python has also rounding function, whose input is float and output is integer. It rounds number to the closest integer and if number has form \"a.5\" (for example 7.5) it rounds to the nearest *even*."
   ]
  },
  {
   "cell_type": "code",
   "execution_count": null,
   "metadata": {
    "collapsed": true
   },
   "outputs": [],
   "source": [
    "print(\"round(1.4) =\",round(1.4))\n",
    "print(\"round(3.5) =\",round(3.5))\n",
    "print(\"round(4.5) =\",round(4.5))"
   ]
  },
  {
   "cell_type": "markdown",
   "metadata": {},
   "source": [
    "Also, we quite often need to increase or decrease some value by certain number. In this case, we can use special operator \"+=\" to increase and \"-=\" to decrease as shown in example:"
   ]
  },
  {
   "cell_type": "code",
   "execution_count": null,
   "metadata": {},
   "outputs": [],
   "source": [
    "a=2\n",
    "print(a)\n",
    "a-=5 #which is the same as a=a-5\n",
    "print(a)\n",
    "a+=7 #which is the same as a=a+7\n",
    "print(a)"
   ]
  },
  {
   "cell_type": "markdown",
   "metadata": {},
   "source": [
    "### If-elif-else statement, logical and comparison operators"
   ]
  },
  {
   "cell_type": "markdown",
   "metadata": {},
   "source": [
    "In Python if-statement (if test1 is true, execute code1; else if test2 is true, execute code2, else execute code3) has this structure:\n",
    "\n",
    "``` python    \n",
    "if test1:   #condition\n",
    "    code1   #statement block\n",
    "elif test2: #condition\n",
    "    code2   #statement block\n",
    "else:\n",
    "    code3   #statement block\n",
    "```    "
   ]
  },
  {
   "cell_type": "markdown",
   "metadata": {},
   "source": [
    "\n",
    "\n",
    "We use logical operators to create more complex conditions for if-statement. To understand how each logical operator works let us write truth table, which shows all possible combinations of its inputs and output. Also let us further use notation for true/false as 1/0 respectively. <br>\n",
    "There are 3 of logical operators in Python:\n",
    "1. \"not\" operator\n",
    "    <table style=\"margin-left: 0 !important\">\n",
    "      <tr>\n",
    "        <th>a</th>\n",
    "        <th>not a</th>\n",
    "      </tr>\n",
    "      <tr>\n",
    "        <td>0</td>\n",
    "        <td>1</td>\n",
    "      </tr>\n",
    "      <tr>\n",
    "        <td>1</td>\n",
    "        <td>0</td>\n",
    "      </tr>  \n",
    "    </table>\n",
    "2. \"and\" operator\n",
    "    <table style=\"margin-left: 0 !important\">\n",
    "      <tr>\n",
    "        <th>a</th>\n",
    "        <th>b</th>\n",
    "        <th>a and b</th>\n",
    "      </tr>\n",
    "      <tr>\n",
    "        <td>0</td>\n",
    "        <td>0</td>\n",
    "        <td>0</td>\n",
    "      </tr>\n",
    "      <tr>\n",
    "        <td>1</td>\n",
    "        <td>0</td>\n",
    "        <td>0</td>\n",
    "      </tr> \n",
    "      <tr>\n",
    "        <td>0</td>\n",
    "        <td>1</td>\n",
    "        <td>0</td>\n",
    "      </tr> \n",
    "      <tr>\n",
    "        <td>1</td>\n",
    "        <td>1</td>\n",
    "        <td>1</td>\n",
    "      </tr> \n",
    "    </table> \n",
    "3. \"or\" operator\n",
    "    <table style=\"margin-left: 0 !important\">\n",
    "      <tr>\n",
    "        <th>a</th>\n",
    "        <th>b</th>\n",
    "        <th>a and b</th>\n",
    "      </tr>\n",
    "      <tr>\n",
    "        <td>0</td>\n",
    "        <td>0</td>\n",
    "        <td>0</td>\n",
    "      </tr>\n",
    "      <tr>\n",
    "        <td>1</td>\n",
    "        <td>0</td>\n",
    "        <td>1</td>\n",
    "      </tr> \n",
    "      <tr>\n",
    "        <td>0</td>\n",
    "        <td>1</td>\n",
    "        <td>1</td>\n",
    "      </tr> \n",
    "      <tr>\n",
    "        <td>1</td>\n",
    "        <td>1</td>\n",
    "        <td>1</td>\n",
    "      </tr> \n",
    "    </table> "
   ]
  },
  {
   "cell_type": "markdown",
   "metadata": {},
   "source": [
    "Python has 6 basic comparison operators:\n",
    "1. Equality ==\n",
    "2. Unequality !=\n",
    "3. Bigger than >\n",
    "4. Smaller than <\n",
    "5. Bigger than or equal to >=\n",
    "6. Smaller than or equal to <=\n",
    "\n",
    "It also has operator which tells if value is between two other value: a<b<c"
   ]
  },
  {
   "cell_type": "markdown",
   "metadata": {},
   "source": [
    "Overall, this can be summarized into one big statement:\n",
    "\n",
    "```python\n",
    "if (a<b<c and (d!=e or f==g) and (not h or i>=j)):\n",
    "    k+=1\n",
    "    l-=1\n",
    "else:\n",
    "    k-=1\n",
    "    l+=1\n",
    "```\n",
    "**When you are writing condition (even simple) it is crucial to place it in brackets like (condition)**"
   ]
  },
  {
   "cell_type": "markdown",
   "metadata": {},
   "source": [
    "### Loop"
   ]
  },
  {
   "cell_type": "markdown",
   "metadata": {},
   "source": [
    "Python loops have this form:\n",
    "\n",
    "```python\n",
    "for i in a: #where a is some list\n",
    "    #do something\n",
    "```\n",
    "You can use this syntax to loop through a list and, for example, print out each element of the list:"
   ]
  },
  {
   "cell_type": "code",
   "execution_count": null,
   "metadata": {},
   "outputs": [],
   "source": [
    "a=['a','b',1,True]\n",
    "for i in a:\n",
    "    print(i)"
   ]
  },
  {
   "cell_type": "markdown",
   "metadata": {},
   "source": [
    "We often don't have a list to work with, instead, we want to do some code repetitively several times. For these instances, Python has function range(a,b,c) which creates list from integers which starts inclusively from integer a and ends exclusively at the b with step c. If you write range(a,b) step c will be automatically equal to 1. And if you write range(a), list will start from 0. For example:"
   ]
  },
  {
   "cell_type": "code",
   "execution_count": null,
   "metadata": {},
   "outputs": [],
   "source": [
    "print(list(range(1,8,2))) #function list() converts range() to normal list we are used to\n",
    "print(list(range(1,8)))\n",
    "print(list(range(8)))"
   ]
  },
  {
   "cell_type": "markdown",
   "metadata": {},
   "source": [
    "Now we don't need any list, we just need to know the exact number of executing a code block: "
   ]
  },
  {
   "cell_type": "code",
   "execution_count": null,
   "metadata": {},
   "outputs": [],
   "source": [
    "s=\"WR\" #we created new string \"WR\"\n",
    "for i in range(10): #we will execute code 10 times\n",
    "    print(i) #just to ensure that you have understood how range() works \n",
    "    s+=\"Y\" #we add to the end of the string letter \"Y\"\n",
    "#it is not necessary to skip the string after loop but I have made it for a beauty    \n",
    "print(s) #let's print new value of s"
   ]
  },
  {
   "cell_type": "markdown",
   "metadata": {},
   "source": [
    "If you need to do double loop (looping through two lists/ranges) you should use this syntax:\n",
    "```python\n",
    "for i in range(a,b,c):\n",
    "    for j in range(d,e,f):\n",
    "        #do something\n",
    "```"
   ]
  },
  {
   "cell_type": "markdown",
   "metadata": {},
   "source": [
    "### Loop with a condition"
   ]
  },
  {
   "cell_type": "markdown",
   "metadata": {},
   "source": [
    "Sometimes, especially when we don't know the exact number of repeats, it is useful to interrupt loop with a condition. You can do it in two main ways:\n",
    "1. \"While\" loop\n",
    "   This loop has syntaxis like:\n",
    "   ```python\n",
    "   while condition:\n",
    "       #do something\n",
    "   ```\n",
    "   If condition is true, than loop will execute code once more and then will check condition again and ...\n",
    "2. \"For\" loop with \"break\"\n",
    "    It has the same syntaxis as in previous paragraph but before code block it has additional if-statement:\n",
    "    ```python\n",
    "    for i in range(sufficiently big number):\n",
    "        if condition: break            \n",
    "        #do something\n",
    "    ```\n",
    "    If condition is true, than loop will be broken and code block won't be executed again\n",
    "\n",
    "\"While\" loop might be appealing because its syntaxis is much easier comparing to \"For\" loop. Moreover, we still need to guess this \"big number\" for \"For\" loop which will be big enough to make enough steps to our goal and at the same time small enough to not take too much time if an error occurs. Nonetheless, now you will have a chance to conduct experiment yourself and discover which loop is faster."
   ]
  },
  {
   "cell_type": "code",
   "execution_count": null,
   "metadata": {},
   "outputs": [],
   "source": [
    "import time #we import library which tells us time - that process will be explained in the next lesson\n",
    "\n",
    "\n",
    "x=100 #some variable\n",
    "iter=10000 #the upper limit of x in this experiment\n",
    "fort1=time.time() #time of beginning of \"For\" loop's work\n",
    "for i in range(int(1E+9)): #I use int(1E+9) because Python interprets 1E+9 automatically as a float which cannot be used for range() function\n",
    "    if (x>iter): break\n",
    "    x+=1/x**0.8 #some time-consuming operations\n",
    "fort2=time.time() #time of stop of \"For\" loop's work\n",
    "print(\"For loop:\", fort2-fort1) #how much time did \"For\" loop work?\n",
    "#doing the same\n",
    "x=100 \n",
    "whilet1=time.time()\n",
    "while (x<iter):\n",
    "    x+=1/x**0.8\n",
    "whilet2=time.time()\n",
    "print(\"While loop:\", whilet2-whilet1)\n",
    "#let computer decide which loop is better!\n",
    "if ((whilet2-whilet1)<(fort2-fort1)):\n",
    "    print(\"While loop is faster in\",(fort2-fort1)/(whilet2-whilet1),\"times\") #both cases are pretty self-explanatory\n",
    "else:\n",
    "    print(\"For loop is faster in\",(whilet2-whilet1)/(fort2-fort1),\"times\")"
   ]
  },
  {
   "cell_type": "markdown",
   "metadata": {},
   "source": [
    "Well, now you can make your own conclusions and own Python programs!"
   ]
  },
  {
   "cell_type": "markdown",
   "metadata": {},
   "source": [
    "## Practice tasks"
   ]
  },
  {
   "cell_type": "markdown",
   "metadata": {},
   "source": [
    "Each practice task will consist from two parts: a task by itself and an empty (sometimes not) code cell for doing the task."
   ]
  },
  {
   "cell_type": "markdown",
   "metadata": {},
   "source": [
    "Write if-statement with condition for two numerical variables which will print if they are equal or which number is bigger."
   ]
  },
  {
   "cell_type": "code",
   "execution_count": null,
   "metadata": {
    "collapsed": true
   },
   "outputs": [],
   "source": [
    "a=           #choose yourself two numbers to compare\n",
    "b="
   ]
  },
  {
   "cell_type": "markdown",
   "metadata": {},
   "source": [
    "Write program for calculating factorial of number x (factorial of x is denoted by $x!=1*2*3*...*x=\\prod\\limits_{i=1}^{x} a_{i}$)"
   ]
  },
  {
   "cell_type": "code",
   "execution_count": null,
   "metadata": {
    "collapsed": true
   },
   "outputs": [],
   "source": [
    "x=15 #you can take whatever number you want but keep it in range 5-50 \n"
   ]
  },
  {
   "cell_type": "markdown",
   "metadata": {},
   "source": [
    "Write program which will find all positive numbers whose squares are smaller than 500"
   ]
  },
  {
   "cell_type": "code",
   "execution_count": null,
   "metadata": {
    "collapsed": true
   },
   "outputs": [],
   "source": []
  }
 ],
 "metadata": {
  "kernelspec": {
   "display_name": "Python 3",
   "language": "python",
   "name": "python3"
  },
  "language_info": {
   "codemirror_mode": {
    "name": "ipython",
    "version": 3
   },
   "file_extension": ".py",
   "mimetype": "text/x-python",
   "name": "python",
   "nbconvert_exporter": "python",
   "pygments_lexer": "ipython3",
   "version": "3.6.1"
  }
 },
 "nbformat": 4,
 "nbformat_minor": 2
}
