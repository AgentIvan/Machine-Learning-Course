{
 "cells": [
  {
   "cell_type": "markdown",
   "metadata": {},
   "source": [
    "# Derivative. Optimisation."
   ]
  },
  {
   "cell_type": "markdown",
   "metadata": {},
   "source": [
    "## Derivative"
   ]
  },
  {
   "cell_type": "markdown",
   "metadata": {},
   "source": [
    "### Slope of a line"
   ]
  },
  {
   "cell_type": "markdown",
   "metadata": {},
   "source": [
    "Let's consider linear function $y=kx+b$ and build its graph: <br>\n",
    "![source: Wikipedia](https://upload.wikimedia.org/wikipedia/commons/c/c1/Wiki_slope_in_2d.svg) <br>\n",
    "Then we can introduce the concept of **slope** as the ratio of vertical change $\\Delta y$ to horizontal change $\\Delta x$ and calculate it for a given line: \n",
    "$$slope=\\frac{\\Delta y}{\\Delta x}=\\frac{y_2-y_1}{x_2-x_1}=\\frac{kx_2+b-kx_1-b}{x_2-x_1}=k\\frac{x_2-x_1}{x_2-x_1}=k$$\n",
    "As you can see, slope of line doesn't depend on values of $x$ and $\\Delta x$"
   ]
  },
  {
   "cell_type": "markdown",
   "metadata": {},
   "source": [
    "### Slope of a function"
   ]
  },
  {
   "cell_type": "markdown",
   "metadata": {},
   "source": [
    "But what happens if graph is not a line? In that case we can drew a tangent line for this graph in a certain point $(x,f(x))$ and define the slope of graph at point x as the slope of the corresponding tangent line: \n",
    "![source: Wikipedia](https://upload.wikimedia.org/wikipedia/commons/d/d2/Tangent-calculus.svg)"
   ]
  },
  {
   "cell_type": "markdown",
   "metadata": {},
   "source": [
    "Drawing a tangent line on a graph can be an easy task but we can't draw it if we have a function is described by the function. But we can do a little trick - as you can remember, slope of a line is defined as $\\frac{\\Delta y}{\\Delta x}$. What will happen if we do the same for any function but with very tiny $\\Delta x$ and, therefore, very tiny $\\Delta y$? Maths, in particular its part named calculus, proves that for any smooth function (if saying not too strictly, it is a function, whose graph can be drawn as a single curve) its slope can be found if you calculate fraction $$\\frac{\\Delta y}{\\Delta x}=\\frac{y_2-y_1}{x_2-x_1}=\\frac{f(x+\\Delta x)-f(x)}{\\Delta x}$$ for very small values of $\\Delta x$. And to be fully mathematical, you have to consider *infinitely small* $\\Delta x$. You can show this fact yourself on the following demo, which shows you evolution of this fraction with decreasing $\\Delta x$ and a visual representation of this slope with help of our good old line."
   ]
  },
  {
   "cell_type": "code",
   "execution_count": null,
   "metadata": {
    "collapsed": true
   },
   "outputs": [],
   "source": [
    "from __future__ import print_function\n",
    "from ipywidgets import interact, interactive, fixed, interact_manual\n",
    "import ipywidgets as widgets\n",
    "import matplotlib.pyplot as plt\n",
    "import numpy as np\n",
    "\n",
    "@interact(lg_z=(-0.5,4.0,0.1))\n",
    "def f(lg_z=1.0):\n",
    "    z=10**lg_z\n",
    "    x_min=1.5-6/z\n",
    "    x_max=1.5+6/z\n",
    "    l_min=1.5-4/z\n",
    "    l_max=1.5+4/z\n",
    "    xstep=(x_max-x_min)/100\n",
    "    lstep=(l_max-l_min)/100\n",
    "    x=np.arange(x_min,x_max,xstep)\n",
    "    plt.plot(x,np.sin(x),'-b')     \n",
    "    plt.plot((l_min,l_max),(np.sin(l_min),np.sin(l_max)),'-r')\n",
    "    plt.plot((l_min,l_max),(np.sin(l_min),np.sin(l_min)),'-r')\n",
    "    plt.plot((l_max,l_max),(np.sin(l_min),np.sin(l_max)),'-r')\n",
    "    yax = plt.ylim()    \n",
    "    plt.text(l_max+0.1/z,(np.sin(l_min)+np.sin(l_max))/2,\"$\\Delta y$\")\n",
    "    plt.text((l_min+l_max)/2,np.sin(l_min)-(yax[1]-yax[0])/20,\"$\\Delta x$\")\n",
    "    plt.show()\n",
    "    print('slope =',(np.sin(l_max)-np.sin(l_min))/(l_max-l_min))\n"
   ]
  },
  {
   "cell_type": "markdown",
   "metadata": {},
   "source": [
    "From the demo, we can see that as we zoom up the graph, drawing smaller and smaller line segments, slope becomes to tend to some certain number which is equal to slope of the tangent line. This number is called a **derivative** of a function $f(x)$ at a point x and written as $f'(x)$ or $\\frac{d}{dx}(f(x))$"
   ]
  },
  {
   "cell_type": "markdown",
   "metadata": {},
   "source": [
    "### Calculation of basic functions' derivatives"
   ]
  },
  {
   "cell_type": "markdown",
   "metadata": {},
   "source": [
    "To strengthen understanding of the derivative's concept let's calculate it for different functions.\n",
    "1. $f(x)=x$ <br>\n",
    "    $$\\frac{\\Delta y}{\\Delta x}=\\frac{x+\\Delta x-x}{\\Delta x}=1\\Rightarrow \\mathbf{\\frac{d}{dx}(x)=1}$$\n",
    "2. $f(x)=x^2$ <br>\n",
    "    $$\\frac{\\Delta y}{\\Delta x}=\\frac{(x+\\Delta x)^2-x^2}{\\Delta x}=\\frac{x^2+2x\\Delta x+\\Delta x^2-x^2}{\\Delta x}=2x+\\Delta x\\rightarrow 2x (\\Delta x\\rightarrow 0)\\Rightarrow \\mathbf{\\frac{d}{dx}(x^2)=2x}$$\n",
    "3. In the general case for a power function of a form $f(x)=x^n$, the derivative will be calculated by the formula: $$\\mathbf{\\frac{d}{dx}(x^n)=nx^{n-1}}$$   \n",
    "4. $f(x)=e^x$ <br>\n",
    "    $$\\frac{\\Delta y}{\\Delta x}=\\frac{e^{x+\\Delta x}-e^x}{\\Delta x}=\\frac{e^xe^{\\Delta x}-e^x}{\\Delta x}=e^x\\frac{e^{\\Delta x}-1}{\\Delta x}$$ <br>\n",
    "    It turns out that derivative is equal to $e^x$ multiplied by some number a which is becoming closer and closer with fraction $\\frac{e^{\\Delta x}-1}{\\Delta x}$ as $\\Delta x$ becomes smaller. However, we cannot simply calculate number a just by substituting $\\Delta x=0$ because we will get $[\\frac{0}{0}]$. Nonetheless, a can be found from definition of Euler's number and by using logarithm. In result, we have to get that $a=1$ and if you are not convinced enough you can check this great video on this exact problem: <br>\n",
    "    [![e^x derivative](http://img.youtube.com/vi/SFWN-TkVFyI/0.jpg)](http://www.youtube.com/watch?v=SFWN-TkVFyI) \n",
    "    \n",
    "    Finally, $$\\mathbf{\\frac{d}{dx}(e^x)=e^x}$$\n",
    "    "
   ]
  },
  {
   "cell_type": "markdown",
   "metadata": {},
   "source": [
    "### Rules for calculating derivatives"
   ]
  },
  {
   "cell_type": "markdown",
   "metadata": {},
   "source": [
    "Throughout this entire course we will often need to calculate derivative of some function that won't be basic. For that instance, we will have to use *rules of differentiation* (or, in other words, calculating the derivative). There are all of them:\n",
    "1. If $f(x)$ is a constant, its derivative is equal to 0: $$(C)'=0$$\n",
    "2. Derivative of a sum of functions is a sum of functions' derivatives: $$(f(x)+g(x))'=f'(x)+g'(x)$$\n",
    "3. From the second rule it is obvious that the same works for substracting: $$(f(x)-g(x))'=f'(x)-g'(x)$$\n",
    "4. Product rule: $$(f(x)g(x))'=f'(x)g(x)+f(x)g'(x)$$\n",
    "5. Quotient rule: $$\\left(\\frac{f(x)}{g(x)}\\right)'=\\frac{f'(x)g(x)-f(x)g'(x)}{g^2(x)}$$\n",
    "6. Chain rule - derivative of composite function is equal to product of functions' derivatives: $$(f(g(x)))'=f'(g(x))g'(x)$$\n",
    "Or it can be rewriten as:\n",
    "$$\\frac{d}{dx}(f(g(x)))=\\frac{df}{dg}\\frac{dg}{dx}$$"
   ]
  },
  {
   "cell_type": "markdown",
   "metadata": {},
   "source": [
    "## Practice tasks"
   ]
  },
  {
   "cell_type": "markdown",
   "metadata": {},
   "source": [
    "1. Calculate derivative of function $f(x)=\\frac{1}{x}$ from definition and compare with derivative of power function in general case\n",
    "2. Let's have 2 orbitary functions $f(x)$ and $g(x)$ which have derivative in point $x_0$ equal to $f'(x)$ and $g'(x)$, respectively. Find derivative of the funciton $f(x)+g(x)$ using definition of derivative.\n",
    "3. Find derivative of the function $Cf(x)$, where C is a real number and derivative of function $f(x)$ is equal to $f'(x)$\n",
    "4. Find derivatives of the functions using rules of differentiation.\n",
    "$$\\begin{align*}\n",
    "f(x)=x^3+3\\sqrt{x}-e^x \\\\\n",
    "f(x)=\\frac{x^2-1}{x^2+1}\\\\\n",
    "\\sigma(x)=\\frac{1}{1+e^{-x}}\n",
    "\\end{align*}$$"
   ]
  },
  {
   "cell_type": "markdown",
   "metadata": {},
   "source": [
    "## Useful links"
   ]
  },
  {
   "cell_type": "markdown",
   "metadata": {},
   "source": [
    "1. Introduction of derivative in KhanAcademy, which is full of tutorial videos from specialists and practice tasks. <br>\n",
    "https://www.khanacademy.org/math/differential-calculus/derivative-intro-dc <br>\n",
    "KhanAcademy is a huge educational portal, where you can find even more material about problematic for you fields of maths."
   ]
  }
 ],
 "metadata": {
  "kernelspec": {
   "display_name": "Python 3",
   "language": "python",
   "name": "python3"
  },
  "language_info": {
   "codemirror_mode": {
    "name": "ipython",
    "version": 3
   },
   "file_extension": ".py",
   "mimetype": "text/x-python",
   "name": "python",
   "nbconvert_exporter": "python",
   "pygments_lexer": "ipython3",
   "version": "3.6.1"
  }
 },
 "nbformat": 4,
 "nbformat_minor": 2
}
