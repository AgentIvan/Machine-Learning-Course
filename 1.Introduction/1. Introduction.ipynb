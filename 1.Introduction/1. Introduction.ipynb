{
 "cells": [
  {
   "cell_type": "markdown",
   "metadata": {},
   "source": [
    "# Introduction into Python and Jupyter Notebook"
   ]
  },
  {
   "cell_type": "markdown",
   "metadata": {},
   "source": [
    "## Jupyter notebook basics\n",
    "\n",
    "All future code will be written in Jupyter Notebook which consists of cells. This text is itself in cell. <br>\n",
    "There are two types of cells:"
   ]
  },
  {
   "cell_type": "markdown",
   "metadata": {},
   "source": [
    "1) Code Cell - to create new cell of this type press \"+\" button and chose \"Code\" type in the same pannel. All Python code should be written in cells of this type, otherwise code won't be interpretated as code and machine will think that this is just a plain text. <br> To run code cell you should press \"Run\" button or press Shift-Enter. To stop execution of code cell you should press \"Stop\" button which is right next to \"Run\" button."
   ]
  },
  {
   "cell_type": "code",
   "execution_count": null,
   "metadata": {
    "collapsed": true
   },
   "outputs": [],
   "source": [
    "a=2\n",
    "b=a+a"
   ]
  },
  {
   "cell_type": "markdown",
   "metadata": {},
   "source": [
    "2) Text Cell - to create new cell of this type press \"+\" button and chose \"Markdown\" type in the same pannel. This type of cells is usually used for creating quite large comments regarding the code. "
   ]
  },
  {
   "cell_type": "markdown",
   "metadata": {},
   "source": [
    "This it text cell <br>To convert cell from plain text to beautiful one just press \"Run\" button or Shift-Enter. And to return to redact mode you should double click the cell"
   ]
  },
  {
   "cell_type": "markdown",
   "metadata": {},
   "source": [
    "As you can see, before code cell there is written \"In [ ]:\", while before text cell there is not. If you run code cell, the number, which tells how many operations have you done from the oppening of this notebook, appears in brackets. For example, if you run code cell above, its heading changes like \"In [1]:\" and if you run it twice it is \"In [2]:\". If you run time-consuming operation, heading of its cell might became \"In [$*$]:\", which means that machine is busy and you will need to wait."
   ]
  },
  {
   "cell_type": "markdown",
   "metadata": {},
   "source": [
    "## Python basics"
   ]
  },
  {
   "cell_type": "markdown",
   "metadata": {},
   "source": [
    "Code cells are written in language Python which has very easy ans user-friendly interface. Its abstracness, simplicity and wide range libraries makes it a perfect candidate for this course. <br>\n",
    "Let's introduce some basic concepts of this language:"
   ]
  },
  {
   "cell_type": "markdown",
   "metadata": {},
   "source": [
    "### Print"
   ]
  },
  {
   "cell_type": "markdown",
   "metadata": {},
   "source": [
    "It is very useful to print out computed values. In order to do that you can use function print() just like in example:"
   ]
  },
  {
   "cell_type": "code",
   "execution_count": 3,
   "metadata": {
    "collapsed": false
   },
   "outputs": [
    {
     "name": "stdout",
     "output_type": "stream",
     "text": [
      "a is equal to 2\n"
     ]
    }
   ],
   "source": [
    "a=2\n",
    "print(\"a is equal to\", a)"
   ]
  },
  {
   "cell_type": "markdown",
   "metadata": {},
   "source": [
    "As it it shown in the example, you can print out unlimited number of variables or strings by separating them with coma. Then their values or just strings will be printed out separated with space."
   ]
  },
  {
   "cell_type": "markdown",
   "metadata": {},
   "source": [
    "### Variables"
   ]
  },
  {
   "cell_type": "markdown",
   "metadata": {},
   "source": [
    "Python is dynamically typed language which means that its variables doesn't have a type, only Python *values* carry type. In result, you can use the same variable wherever you want."
   ]
  },
  {
   "cell_type": "code",
   "execution_count": 5,
   "metadata": {
    "collapsed": false
   },
   "outputs": [
    {
     "name": "stdout",
     "output_type": "stream",
     "text": [
      "x = 4\n",
      "2*x = 8\n",
      "abc\n"
     ]
    }
   ],
   "source": [
    "x=4\n",
    "print(\"x =\",x)\n",
    "print(\"2*x =\",2*x)\n",
    "#this is commentary in python - you just need to type \"#\" and all written till the end of string will be commentary\n",
    "#now we are assigning a value with a completely new type (string type) to a variable x whose value before was numerical (x=4) \n",
    "x='abc'\n",
    "print(x)\n",
    "#as you can see no error occured"
   ]
  },
  {
   "cell_type": "markdown",
   "metadata": {},
   "source": [
    "But, for instance, if you try to run numerical operation with a variable whose value is a string, you might get an error (TypeError)"
   ]
  },
  {
   "cell_type": "code",
   "execution_count": 8,
   "metadata": {
    "collapsed": false
   },
   "outputs": [
    {
     "ename": "TypeError",
     "evalue": "can't multiply sequence by non-int of type 'str'",
     "output_type": "error",
     "traceback": [
      "\u001b[0;31m---------------------------------------------------------------------------\u001b[0m",
      "\u001b[0;31mTypeError\u001b[0m                                 Traceback (most recent call last)",
      "\u001b[0;32m<ipython-input-8-4cc86679e7de>\u001b[0m in \u001b[0;36m<module>\u001b[0;34m()\u001b[0m\n\u001b[1;32m      1\u001b[0m \u001b[0mx\u001b[0m\u001b[1;33m=\u001b[0m\u001b[1;34m'abc'\u001b[0m\u001b[1;33m\u001b[0m\u001b[0m\n\u001b[0;32m----> 2\u001b[0;31m \u001b[0mprint\u001b[0m\u001b[1;33m(\u001b[0m\u001b[0mx\u001b[0m\u001b[1;33m*\u001b[0m\u001b[0mx\u001b[0m\u001b[1;33m)\u001b[0m\u001b[1;33m\u001b[0m\u001b[0m\n\u001b[0m",
      "\u001b[0;31mTypeError\u001b[0m: can't multiply sequence by non-int of type 'str'"
     ]
    }
   ],
   "source": [
    "x='abc'\n",
    "print(x*x)"
   ]
  },
  {
   "cell_type": "markdown",
   "metadata": {},
   "source": [
    "**Jupyter notebook remembers current values of ALL variables you used from opening of notebook till closure of command line with Jupyter server. That it is why you can interpret all notebook as a big program. But if you reassign some variable you are going to completely lose its previous value.**"
   ]
  },
  {
   "cell_type": "markdown",
   "metadata": {},
   "source": [
    "### Types of values"
   ]
  },
  {
   "cell_type": "markdown",
   "metadata": {},
   "source": [
    "|Type |                            Description                          |    Example of assigning     |\n",
    "|-----|-----------------------------------------------------------------|-----------------------------|\n",
    "|bool |true or false                                                    |a=True b=False               |\n",
    "|int  |integer                                                          |a=2                          |\n",
    "|float|floating point number                                            |a=2.71828                    |\n",
    "|str  |sequence of Unicode characters - string                          |a=\"Hello world!\"             |\n",
    "|list |list, which can contain mixed types                              |a=[1,2,3] b=[1,\"j\",False]    |\n",
    "|dict |dictionary with different keys, each one corresponds to the value|a={1:\"one\",2:\"two\",3:\"three\"}|"
   ]
  },
  {
   "cell_type": "markdown",
   "metadata": {},
   "source": [
    "### Mathematical operations"
   ]
  },
  {
   "cell_type": "markdown",
   "metadata": {},
   "source": [
    "Python has 7 main mathematical operators: \"+\", \"-\", \"$*$\", \"/\", \"//\", \"%\", \"$**$\""
   ]
  },
  {
   "cell_type": "code",
   "execution_count": 12,
   "metadata": {
    "collapsed": false
   },
   "outputs": [
    {
     "name": "stdout",
     "output_type": "stream",
     "text": [
      "3+2 = 5\n",
      "3-2 = 1\n",
      "3*2 = 6\n",
      "3/2 = 1.5\n",
      "3//2 = 1\n",
      "10//3 = 3\n",
      "6//3 = 2\n",
      "11%3 = 2\n",
      "11**3 = 1331\n"
     ]
    }
   ],
   "source": [
    "#addition\n",
    "print(\"3+2 =\", 3+2)\n",
    "#substraction\n",
    "print(\"3-2 =\", 3-2)\n",
    "#multiplication\n",
    "print(\"3*2 =\", 3*2) \n",
    "#floating-point division\n",
    "print(\"3/2 =\", 3/2)\n",
    "#floor division\n",
    "print(\"3//2 =\", 3//2)\n",
    "print(\"10//3 =\", 10//3)\n",
    "print(\"6//3 =\", 6//3)\n",
    "#remainder of division\n",
    "print(\"11%3 =\", 11%3)\n",
    "#power function\n",
    "print(\"11**3 =\", 11**3)"
   ]
  },
  {
   "cell_type": "markdown",
   "metadata": {},
   "source": [
    "Python has also rounding function, whose input is float and output is integer. It rounds number to the closest integer and if number has form \"a.5\" (for example 7.5) it rounds to the nearest *even*."
   ]
  },
  {
   "cell_type": "code",
   "execution_count": 13,
   "metadata": {
    "collapsed": false
   },
   "outputs": [
    {
     "name": "stdout",
     "output_type": "stream",
     "text": [
      "round(1.4) = 1\n",
      "round(3.5) = 4\n",
      "round(4.5) = 4\n"
     ]
    }
   ],
   "source": [
    "print(\"round(1.4) =\",round(1.4))\n",
    "print(\"round(3.5) =\",round(3.5))\n",
    "print(\"round(4.5) =\",round(4.5))"
   ]
  },
  {
   "cell_type": "markdown",
   "metadata": {},
   "source": [
    "### If-elif-else statement, logical and comparison operators"
   ]
  },
  {
   "cell_type": "markdown",
   "metadata": {},
   "source": [
    "In Python if-statement (if test1 is true, execute code1; else if test2 is true, execute code2, else execute code3) has this structure:"
   ]
  },
  {
   "cell_type": "code",
   "execution_count": null,
   "metadata": {
    "collapsed": true
   },
   "outputs": [],
   "source": [
    "if test1:\n",
    "    code1\n",
    "elif test2:\n",
    "    code2\n",
    "else:\n",
    "    code3    "
   ]
  },
  {
   "cell_type": "markdown",
   "metadata": {},
   "source": [
    "Python has 5 basic comparison operators:\n",
    "1. Equality ==\n",
    "2. Bigger than >\n",
    "3. Smaller than <\n",
    "4. Bigger than or equal to >=\n",
    "5. Smaller than or equal to <="
   ]
  }
 ],
 "metadata": {
  "kernelspec": {
   "display_name": "Python 3",
   "language": "python",
   "name": "python3"
  },
  "language_info": {
   "codemirror_mode": {
    "name": "ipython",
    "version": 3
   },
   "file_extension": ".py",
   "mimetype": "text/x-python",
   "name": "python",
   "nbconvert_exporter": "python",
   "pygments_lexer": "ipython3",
   "version": "3.6.0"
  }
 },
 "nbformat": 4,
 "nbformat_minor": 2
}
