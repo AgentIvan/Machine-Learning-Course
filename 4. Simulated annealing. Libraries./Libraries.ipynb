{
 "cells": [
  {
   "cell_type": "markdown",
   "metadata": {},
   "source": [
    "# Simulated annealing. Libraries."
   ]
  },
  {
   "cell_type": "markdown",
   "metadata": {},
   "source": [
    "## Modules"
   ]
  },
  {
   "cell_type": "markdown",
   "metadata": {},
   "source": [
    "As your Python programs are getting longer and longer it becomes more and more reasonble to split functions and statements into different files. Furthermore, such structure makes code repeatable and reduces number of repetitions. For that purpose every Python file with extension .py you wrote (in any Python compiler or text editor) can be imported in another .py file or even Jupyter notebook with:\n",
    "```python\n",
    "import filename\n",
    "#file has to be in the same directory\n",
    "```\n",
    "That is why, besides 2 notebooks, you should download file math_lib.py which will be our first module we will edit and rewrite. You can import it as follows:"
   ]
  },
  {
   "cell_type": "code",
   "execution_count": null,
   "metadata": {
    "collapsed": true
   },
   "outputs": [],
   "source": [
    "import math_lib"
   ]
  },
  {
   "cell_type": "markdown",
   "metadata": {},
   "source": [
    "This miodule is not only educational example, but real module which is going to include a lot of useful *math* functions for machine learning. Mostly, they will be functions for work with numeric lists because basic operators for single numbers like multiplication and adding are already in-build in Python. <br>\n",
    "Right now, there are 5 functions: \n",
    "1. **sum(x)** returns the sum of every element in a list\n",
    "2. **max(x)** returns the element with maximum value\n",
    "3. **argmax(x)** returns the index of the element with maximum value\n",
    "4. **min(x)** returns the element with minimum value\n",
    "5. **argmin(x)** returns the index of the element with minimum value <br>\n",
    "For each function input **x** is a list of numbers. <br>\n",
    "\n",
    "And if you know name of a function you can easily use it with following syntax:\n",
    "```python\n",
    "filename.name_of_function(function_input)\n",
    "```"
   ]
  },
  {
   "cell_type": "code",
   "execution_count": null,
   "metadata": {},
   "outputs": [],
   "source": [
    "a=[6,8,7,6,9,8]\n",
    "print(math_lib.sum(a))\n",
    "print(math_lib.max(a))\n",
    "print(math_lib.argmax(a))\n",
    "print(math_lib.min(a))\n",
    "print(math_lib.argmin(a))"
   ]
  },
  {
   "cell_type": "markdown",
   "metadata": {},
   "source": [
    "**Fact!** Functions argmax(x) and argmin(x) return indices of the maximum and minimum element, respectively."
   ]
  },
  {
   "cell_type": "markdown",
   "metadata": {},
   "source": [
    "## Libraries"
   ]
  },
  {
   "cell_type": "markdown",
   "metadata": {},
   "source": [
    "It is nice to create modules just for our purposes but sometimes writing code from zero can be very mundane thing. Luckily, a lot of prewritten libraries already exist. Throughout ML course we will meet several huge libraries which consist of numerous .py files and vast catalogue of functions. Nonetheless, we will take out the most important functionality and apply it for solving our problems. "
   ]
  },
  {
   "cell_type": "markdown",
   "metadata": {},
   "source": [
    "### time"
   ]
  },
  {
   "cell_type": "markdown",
   "metadata": {},
   "source": [
    "This is very simple library (you can find its documentation in useful links) which provides various time-dependent functions. Since we are going to encounter more and more complex ML algorithms, this library will be useful in one role: measuring how fast is an algorithm. Let's test it one toy example:"
   ]
  },
  {
   "cell_type": "code",
   "execution_count": null,
   "metadata": {},
   "outputs": [],
   "source": [
    "import time #we import libraries in the same fashion as modules\n",
    "\n",
    "t1=time.time() #function time.time() returns time passed from January 1, 1970, 00:00:00 (UTC) in seconds \n",
    "\n",
    "#basically we are doing Collatz sequence starting from 75128138247\n",
    "#Collatz conjecture states that this sequence will end up at 1 and then loop 1,4,2,1,4,2,1...\n",
    "x=75128138247\n",
    "steps=0\n",
    "while x!=1:\n",
    "    if (x%2==0): #if number is even divide it by 2\n",
    "        x=x//2\n",
    "    else:\n",
    "        x=3*x+1  #if number is odd multiply it by 3 and add 1\n",
    "    steps+=1 #we are calculating number of non 1 elements of Collatz sequence\n",
    "    \n",
    "t2=time.time() #t1 is time of start of the algorithm operation and t2 is time of end of the algorithm operation\n",
    "\n",
    "print('Number of steps:',steps) \n",
    "print('Spended time in seconds:',t2-t1) #t2-t1 = time of algorithm's work"
   ]
  },
  {
   "cell_type": "markdown",
   "metadata": {},
   "source": [
    "### math"
   ]
  },
  {
   "cell_type": "markdown",
   "metadata": {},
   "source": [
    "Since Python provides only basic mathematical operations like multiplication and substraction, we can use this library to easily calculate such functions as exponent and sine. Practically all functions' inputs and outputs are float numbers. The library also provides several constants as $\\pi$ and Euler's number $e$."
   ]
  },
  {
   "cell_type": "code",
   "execution_count": null,
   "metadata": {},
   "outputs": [],
   "source": [
    "import math\n",
    "print(math.exp(1))\n",
    "print(math.pi)\n",
    "print(math.sin(math.pi/4)) #sin(pi/4)=1/sqrt(2)"
   ]
  },
  {
   "cell_type": "markdown",
   "metadata": {},
   "source": [
    "Math library has also function fsum(list) which accurately founds sum of all numbers in list. Shall we compare the speed of our <strike>attack rushes</strike> and math fsum() functions?"
   ]
  },
  {
   "cell_type": "code",
   "execution_count": null,
   "metadata": {},
   "outputs": [],
   "source": [
    "import math\n",
    "import math_lib\n",
    "import time\n",
    "l=[]\n",
    "for i in range(1200000):\n",
    "    l.append(i)\n",
    "\n",
    "t1=time.time()\n",
    "s1=math_lib.sum(l)\n",
    "t2=time.time()\n",
    "print('Sum is calculated by math_lib.py in',str(t2-t1),'seconds and is equal to',str(s1))\n",
    "t1=time.time()\n",
    "s2=math.fsum(l)\n",
    "t2=time.time()\n",
    "print('Sum is calculated by math library in',str(t2-t1),'seconds and is equal to',str(s2))"
   ]
  },
  {
   "cell_type": "markdown",
   "metadata": {},
   "source": [
    "Math_lib is quite slow, but we still are going to stick to it for some time for better understanding of how algorithms work."
   ]
  },
  {
   "cell_type": "markdown",
   "metadata": {},
   "source": [
    "### random"
   ]
  },
  {
   "cell_type": "markdown",
   "metadata": {},
   "source": [
    "Random or pseudo-random numbers play essential role in machine learning. Usually, we are going to generate initial parametres using random numbers with help of this library. We will mainly use 3 functions: random.random() which generates random float in [0.0,1.0), random.randint(a,b) which generates integer in [a,b] (inclusively) and random.shuffle(x) which randomly shuffles elements of a list."
   ]
  },
  {
   "cell_type": "code",
   "execution_count": null,
   "metadata": {},
   "outputs": [],
   "source": [
    "import random\n",
    "\n",
    "print(random.random()) #this function is without input\n",
    "\n",
    "print(random.randint(0,5)) #random integer\n",
    "\n",
    "x=list(range(5))\n",
    "print(x)\n",
    "random.shuffle(x) #this function doesn't have output\n",
    "print(x)"
   ]
  },
  {
   "cell_type": "markdown",
   "metadata": {},
   "source": [
    "### matplotlib"
   ]
  },
  {
   "cell_type": "markdown",
   "metadata": {},
   "source": [
    "Third library we will explore is *matplotlib*. It is a plotting Python library, which is already installed in Anaconda. For drawing simple plots we will mainly use only part of the library: matplotlib.pyplot"
   ]
  },
  {
   "cell_type": "code",
   "execution_count": null,
   "metadata": {
    "collapsed": true
   },
   "outputs": [],
   "source": [
    "import matplotlib.pyplot as plt #we can denote long names using operator 'as'"
   ]
  },
  {
   "cell_type": "markdown",
   "metadata": {},
   "source": [
    "Now we can plot 2D graphs using several lines of code. Information, which will be plotted will be mainly in two forms:\n",
    "1. One list of numbers. In that case, this list will be Y coordinates of plotted points, while X coordinates are generate automatically in form of [0,1,2...n-1], where n is number of elements in Y list.\n",
    "```python\n",
    "plt.plot(y_list)\n",
    "plt.show()\n",
    "```\n",
    "2. Two lists of numbers. In that case first ans second lists will be X and Y coordinates, respectively\n",
    "```python\n",
    "plt.plot(x_list,y_list)\n",
    "plt.show()\n",
    "```\n",
    "You can already see that there are two main functions plt.plot(...), which draws graph and plt.show(), which shows resulting graph as .png file <br>\n",
    "Now let's create X and Y lists from formula $y=x^2$ to plot parabola."
   ]
  },
  {
   "cell_type": "code",
   "execution_count": null,
   "metadata": {},
   "outputs": [],
   "source": [
    "X=[]\n",
    "Y=[]\n",
    "for i in range(21):\n",
    "    x=(i-10)/5\n",
    "    y=x**2\n",
    "    X.append(x)\n",
    "    Y.append(y)\n",
    "    \n",
    "plt.plot(X,Y)\n",
    "plt.show()"
   ]
  },
  {
   "cell_type": "markdown",
   "metadata": {},
   "source": [
    "You can customize form of plot's line by typing third argument of function plt.plot(...). This argument must have a string format and following structure 'color|type_of_line(and/or)type_of_marker' (in real situation symbols '|' and '(and/or)' are absent). Colors are denoted as <font size=4 color='red'>r</font>,<font size=4 color='green'>g</font>,<font size=4 color='blue'>b</font>,<font size=4 color='cyan'>c</font>,<font size=4 color='magenta'>m</font>,<font size=4 color='yellow'>y</font>,<font size=4 color='black'>k</font>. Types of lines are denoted as: '-' (simple line), '--' (dashed line), '-.' (dashdotted line), ':' (dotted line). Finally, the most common types of markers are 'o' (circle), '+' (plus), '.' (dot). <br>\n",
    "For example:"
   ]
  },
  {
   "cell_type": "code",
   "execution_count": null,
   "metadata": {},
   "outputs": [],
   "source": [
    "#blue dashed line with circle markers\n",
    "plt.plot(X,Y,'b--o')\n",
    "plt.show()\n",
    "#green dashdotted line\n",
    "plt.plot(X,Y,'g-.')\n",
    "plt.show()\n",
    "#red simple line with '+' markers\n",
    "plt.plot(X,Y,'r-+')\n",
    "plt.show()"
   ]
  },
  {
   "cell_type": "markdown",
   "metadata": {},
   "source": [
    "You can plot several graphs on one picture:"
   ]
  },
  {
   "cell_type": "code",
   "execution_count": null,
   "metadata": {},
   "outputs": [],
   "source": [
    "plt.plot(X,Y,'b-') #graph of y(x)=x**2 function\n",
    "plt.plot(X,X,'r+') #graph of y(x)=x function\n",
    "plt.show()"
   ]
  },
  {
   "cell_type": "markdown",
   "metadata": {
    "collapsed": true
   },
   "source": [
    "Matplotlib provides many more opportunities, including enormous possibilities for formatting graphs, plotting bar graphs, histograms and even 3D graphs (which you could see in lesson 2. Functions on math and Python). However, we won't dive hardly into it because for this course matplotlib library will help with visualizing our data only. Thus, simple 2D plot will almost always do its job. <br>"
   ]
  },
  {
   "cell_type": "markdown",
   "metadata": {},
   "source": [
    "## Practice task"
   ]
  },
  {
   "cell_type": "markdown",
   "metadata": {},
   "source": [
    "### Math"
   ]
  },
  {
   "cell_type": "markdown",
   "metadata": {},
   "source": [
    "This time we don't have math lesson but topic of derivatives is crucial for understanding pretty much all next lessons. For this instance, there will be additional task of finding derivatives of more complex functions:\n",
    "1. $$f(x)=4x^2+\\frac{1}{x}+3\\sqrt[4]x+6e^x$$\n",
    "2. $$f(x)=\\frac{x^2+3x+4}{2x^2-5x}$$\n",
    "3. $$f(x)=\\frac{x}{\\sqrt{a^2-x^2}}$$\n",
    "4. $$f(x)=\\sqrt[3]{\\frac{1+x^3}{1-x^3}}$$\n",
    "5. $$f(x)=\\frac{1}{\\sqrt{1+x^2}(x+\\sqrt{1+x^2})}$$\n",
    "6. $$f(x)=\\frac{\\sqrt{x^2+x^3}}{x}$$\n",
    "7. $$f(x)=e^x(x^2-4x+2)$$\n",
    "8. $$f(x)=\\frac{1}{1+e^{\\frac{1}{x}}}$$\n",
    "9. $$f(x)=\\frac{x^2}{e^{x^2}}$$\n",
    "10. $$f(x)=(e^x-x)^{e^\\pi}$$"
   ]
  },
  {
   "cell_type": "markdown",
   "metadata": {},
   "source": [
    "### Python"
   ]
  },
  {
   "cell_type": "markdown",
   "metadata": {},
   "source": [
    "Add two more functions for work with lists into math_lib.py file:\n",
    "1. Function arange(start,stop,step) which creates list that starts from number *start* and ends at *stop* (*stop* is not included into list). Spacing between values is equal to *step*, which means that for any element (except last one) with index i holds $list[i+1]-list[i]=step$\n",
    "2. Function linspace(start,stop,n) which creates list that starts from number *start* and ends at *stop* (*stop* is included into list). List consists of n+1 elements with equal spacing between them. <br>\n",
    "\n",
    "Using new written functions and matplotlib plot graphs of functions 4,5,7,9,10 from math part. For these particular functions find solutions for equation $f'(x)=0$ (exactly or numerically with precision to 0.01). If roots exist, additionaly plot these functions increased in scale near roots (like from $x_{root}-0.25$ to $x_{root}+0.25$). How do functions behave in this part of graph? How many different classes of behaviour do you see?"
   ]
  },
  {
   "cell_type": "markdown",
   "metadata": {},
   "source": [
    "## Useful links"
   ]
  },
  {
   "cell_type": "markdown",
   "metadata": {},
   "source": [
    "1. Documentation of time module: https://docs.python.org/3/library/time.html\n",
    "2. Documentation of math module: https://docs.python.org/3/library/math.html\n",
    "3. Matplotlib.pyplot tutorial with more information about formatting graphs: https://matplotlib.org/users/pyplot_tutorial.html"
   ]
  }
 ],
 "metadata": {
  "kernelspec": {
   "display_name": "Python 3",
   "language": "python",
   "name": "python3"
  },
  "language_info": {
   "codemirror_mode": {
    "name": "ipython",
    "version": 3
   },
   "file_extension": ".py",
   "mimetype": "text/x-python",
   "name": "python",
   "nbconvert_exporter": "python",
   "pygments_lexer": "ipython3",
   "version": "3.6.1"
  }
 },
 "nbformat": 4,
 "nbformat_minor": 2
}
