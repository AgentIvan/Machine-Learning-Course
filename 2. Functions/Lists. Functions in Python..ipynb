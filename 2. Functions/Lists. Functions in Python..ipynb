{
 "cells": [
  {
   "cell_type": "markdown",
   "metadata": {},
   "source": [
    "# Lists. Functions in Python."
   ]
  },
  {
   "cell_type": "markdown",
   "metadata": {},
   "source": [
    "## Lists "
   ]
  },
  {
   "cell_type": "markdown",
   "metadata": {},
   "source": [
    "In the previous lesson, we talked about major types of values in Python but didn't talk about data structrures. These types of values are used for storing and using unlimited number of values in themselves. You can keep whatever information in lists you want, even information of different types. Python has the following structure for assigning lists:"
   ]
  },
  {
   "cell_type": "code",
   "execution_count": 1,
   "metadata": {
    "collapsed": true
   },
   "outputs": [],
   "source": [
    "#let's name our list a\n",
    "a=['a',1,'b', True] #in square brackets (\"[]\") we write elemetens separating them by coma"
   ]
  },
  {
   "cell_type": "markdown",
   "metadata": {},
   "source": [
    "Every element in a list has its own number, which called index. Counting of indexes starts from **0**. For example in list above element which has index **0** is 'a' and index **3** is True <br>\n",
    "Number of elements in a list is called a list's **length**. It can be found with function len() as shown below:"
   ]
  },
  {
   "cell_type": "code",
   "execution_count": 2,
   "metadata": {
    "collapsed": false
   },
   "outputs": [
    {
     "name": "stdout",
     "output_type": "stream",
     "text": [
      "4\n"
     ]
    }
   ],
   "source": [
    "a=['a',1,'b', True]\n",
    "print(len(a)) #we print length of a list"
   ]
  },
  {
   "cell_type": "markdown",
   "metadata": {},
   "source": [
    "### Accessing lists"
   ]
  },
  {
   "cell_type": "markdown",
   "metadata": {},
   "source": [
    "Obviously, we create lists to store information there which we need to access. And for different cases Python has three ways to get information in list.\n",
    "1. Get the whole list\n",
    "    ```python\n",
    "    print(a)\n",
    "    ```\n",
    "2. Get a part of a list\n",
    "    ```python       \n",
    "    b=a[indmin:indmax]\n",
    "    #b is the new list which consists of part of list a\n",
    "    print(b) \n",
    "    \n",
    "    ```\n",
    "    where **indmin** is first index of an element which **will be included** in b and **indmax** is first index of an element which **won't be included** in b\n",
    "3. Get single element\n",
    "    ```python    \n",
    "    c=a[ind]\n",
    "    #c is the element we want to print out\n",
    "    print(c)     \n",
    "    ```\n",
    "    where c is an index of an element we want to print out\n",
    "    \n",
    "You can try these methods in pracice:"
   ]
  },
  {
   "cell_type": "code",
   "execution_count": 3,
   "metadata": {
    "collapsed": false
   },
   "outputs": [
    {
     "name": "stdout",
     "output_type": "stream",
     "text": [
      "[1, 4, 9, 16, 25]\n",
      "[4, 9, 16]\n",
      "25\n"
     ]
    }
   ],
   "source": [
    "a=[1,4,9,16,25] #this our list\n",
    "print(a) #we can print it whole\n",
    "print(a[1:4]) #our second, third and fourth elements (their indexes are 1,2,3)\n",
    "print(a[4]) #or just the fifth element (its index is 4)"
   ]
  },
  {
   "cell_type": "markdown",
   "metadata": {},
   "source": [
    "### Changing lists"
   ]
  },
  {
   "cell_type": "markdown",
   "metadata": {},
   "source": [
    "In practice, we can usually fullfill our need for changing information by two main methods:\n",
    "1. Change value of existing element\n",
    "    ```python\n",
    "    a[ind]=new_value\n",
    "    ```\n",
    "    where ind is index of element we want to change and new_value is its new value\n",
    "2. Append new element to a list\n",
    "    ```python\n",
    "    a.append(new_value)\n",
    "    ```\n",
    "    Element with new value will be automatically created and placed at **the end** of a list"
   ]
  },
  {
   "cell_type": "code",
   "execution_count": 4,
   "metadata": {
    "collapsed": false
   },
   "outputs": [
    {
     "name": "stdout",
     "output_type": "stream",
     "text": [
      "[1, 4, 9, 16, 25]\n",
      "[1, 4, 9, 16, 16]\n",
      "[1, 4, 9, 16, 16, 9]\n",
      "9\n"
     ]
    }
   ],
   "source": [
    "a=[1,4,9,16,25]\n",
    "print(a) #let's print the list before changing\n",
    "a[4]=16 #we change element with 4th (from 25 to 16)\n",
    "print(a)\n",
    "a.append(9) #we append element with value 9 to the end of the list\n",
    "print(a)\n",
    "#as you can see now list a has 6 elements and now we can print element with index 5\n",
    "print(a[5])"
   ]
  },
  {
   "cell_type": "markdown",
   "metadata": {},
   "source": [
    "The last way to change list - is to delete its items using following syntax:\n",
    "```python\n",
    "del a[ind]\n",
    "```\n",
    "where ind is index of an element we want to delete"
   ]
  },
  {
   "cell_type": "code",
   "execution_count": 5,
   "metadata": {
    "collapsed": false
   },
   "outputs": [
    {
     "name": "stdout",
     "output_type": "stream",
     "text": [
      "[3, 5, 3, 0, 1]\n",
      "[3, 3, 0, 1]\n"
     ]
    }
   ],
   "source": [
    "a=[3,5,3,0,1]\n",
    "print(a)\n",
    "del a[1] #we delete element with index 1\n",
    "print(a)"
   ]
  },
  {
   "cell_type": "markdown",
   "metadata": {},
   "source": [
    "## Functions"
   ]
  },
  {
   "cell_type": "markdown",
   "metadata": {},
   "source": [
    "By this time, you should have read about functions in maths in another Jupyter notebook for this lesson. The same as in maths, a function has its *input* and *output*. In Python a function has its own unique syntax:\n",
    "```python\n",
    "def name_of_function(input_variable):\n",
    "    #body_of_function    \n",
    "    return output_variable\n",
    "```\n",
    "So far, you have learned only about functions which have one input and one output. In fact, the same as in maths, you can define function with number of inputs and outputs you want just like that:\n",
    "```python\n",
    "def name_of_function(input_variable1, input_variable2, input_variable3):\n",
    "    #body_of_function    \n",
    "    return output_variable1, output_variable2\n",
    "```\n",
    "Moreover, you can have a function which doesn't have output or input or even both:\n",
    "```python\n",
    "def name_of _function():\n",
    "    #body_of_function\n",
    "```\n",
    "Let's define some functions for better understanding."
   ]
  },
  {
   "cell_type": "code",
   "execution_count": 6,
   "metadata": {
    "collapsed": true
   },
   "outputs": [],
   "source": [
    "#Function with 1 input and 1 output\n",
    "#This function will find square of a number\n",
    "def f11(x):\n",
    "    y=x**2 \n",
    "    #y is an inner variable. It will be created only once and won't affect variable y which is out of function\n",
    "    return y #we return inner variable y"
   ]
  },
  {
   "cell_type": "code",
   "execution_count": 7,
   "metadata": {
    "collapsed": true
   },
   "outputs": [],
   "source": [
    "#Function with 2 inputs and outputs\n",
    "#This function will sum and multiplicate 2 numbers and then return these two numbers as outputs\n",
    "def f22(x,y):\n",
    "    sumxy=x+y \n",
    "    mulxy=x*y\n",
    "    return sumxy,mulxy #separate outputs with comas"
   ]
  },
  {
   "cell_type": "code",
   "execution_count": 8,
   "metadata": {
    "collapsed": true
   },
   "outputs": [],
   "source": [
    "#Function with 1 input and 0 output\n",
    "#This function will append to 1 to the end of a list\n",
    "def f10(x):\n",
    "    x.append(1)\n",
    "#This function won't return anything; instead, it will just change x"
   ]
  },
  {
   "cell_type": "code",
   "execution_count": 9,
   "metadata": {
    "collapsed": true
   },
   "outputs": [],
   "source": [
    "#Function with 0 inputs and outputs\n",
    "def f00():\n",
    "    print('This function does not require anything')"
   ]
  },
  {
   "cell_type": "markdown",
   "metadata": {},
   "source": [
    "After you have run all functions in Jupyter notebook, nothing have changed, functions haven't done what we wanted them to do. It is understandable because we have not used them yet. Instead, we have defined them and only now we can use them. To use function with 1 output we have to write down such structure:\n",
    "```python\n",
    "output_variable=name_of_function(input_we_want)\n",
    "```\n",
    "If a function has several outputs or inputs, we can use this syntax:\n",
    "```python\n",
    "output1_variable,output2_variable=name_of_function(input1_we_want,input2_we_want)\n",
    "```\n",
    "Sometimes, our function is too general and we want get rid of some outputs. In that case, to get rid of some inputs we can use *_* symbol:\n",
    "```python\n",
    "output1_variable,_output3_variable=name_of_function(input1_we_want,input2_we_want)\n",
    "```\n",
    "In above shown example, we will need only two ready output variables to write down in them output number 1 and 3\n",
    "Instead of using output variables, we can just print them out using function *print()*.\n",
    "Function will work only in case if we have input variables which contatin some variable or we can also use just values instead of variables."
   ]
  },
  {
   "cell_type": "code",
   "execution_count": 10,
   "metadata": {
    "collapsed": false
   },
   "outputs": [
    {
     "name": "stdout",
     "output_type": "stream",
     "text": [
      "y = 16\n",
      "y = 16\n",
      "y = 16\n"
     ]
    }
   ],
   "source": [
    "#Function with 1 input and 1 variable\n",
    "y=f11(4) #Using plain values\n",
    "print('y =',y) #Printing output\n",
    "print('y =',f11(4)) #Printing output directly\n",
    "#Using variables\n",
    "x=4\n",
    "y=f11(x)\n",
    "print('y =',y)\n",
    "#As you can see results are the same"
   ]
  },
  {
   "cell_type": "code",
   "execution_count": 11,
   "metadata": {
    "collapsed": false
   },
   "outputs": [
    {
     "name": "stdout",
     "output_type": "stream",
     "text": [
      "2 + 3 = 5\n",
      "2 * 3 = 6\n"
     ]
    }
   ],
   "source": [
    "#Function with 2 input and 2 variable\n",
    "u=2 \n",
    "v=3 #Setting variables\n",
    "s,m=f22(u,v) #Getting outputs\n",
    "print(u,'+',v,'=',s)\n",
    "print(u,'*',v,'=',m)"
   ]
  },
  {
   "cell_type": "code",
   "execution_count": 12,
   "metadata": {
    "collapsed": false
   },
   "outputs": [
    {
     "name": "stdout",
     "output_type": "stream",
     "text": [
      "[3, 2]\n",
      "[3, 2, 1]\n"
     ]
    }
   ],
   "source": [
    "#Function with 1 input and 0 output\n",
    "x=[3,2] #Initial list\n",
    "print(x)\n",
    "f10(x) #Appending to the list 1\n",
    "print(x)"
   ]
  },
  {
   "cell_type": "code",
   "execution_count": 13,
   "metadata": {
    "collapsed": false
   },
   "outputs": [
    {
     "name": "stdout",
     "output_type": "stream",
     "text": [
      "This function does not require anything\n"
     ]
    }
   ],
   "source": [
    "#Function with 0 inputs and 0 outputs\n",
    "f00()"
   ]
  },
  {
   "cell_type": "markdown",
   "metadata": {},
   "source": [
    "## Practice tasks"
   ]
  },
  {
   "cell_type": "markdown",
   "metadata": {},
   "source": [
    "Write program which will create string with sentence from list of strings with words and print resulting sentence."
   ]
  },
  {
   "cell_type": "code",
   "execution_count": null,
   "metadata": {
    "collapsed": true
   },
   "outputs": [],
   "source": [
    "word_list=['Write', 'program', 'which', 'will', 'create', 'string', 'with', 'sentence', 'from', 'list', 'of', 'strings', 'with', 'words']\n"
   ]
  },
  {
   "cell_type": "markdown",
   "metadata": {},
   "source": [
    "Write function for calculating factorial of number x (factorial of x is denoted by $x!=1*2*3*...*x=\\prod\\limits_{i=1}^{x} a_{i}$) and calculate it for several values. *You can use code from the last practice task.*"
   ]
  },
  {
   "cell_type": "code",
   "execution_count": null,
   "metadata": {
    "collapsed": true
   },
   "outputs": [],
   "source": []
  },
  {
   "cell_type": "markdown",
   "metadata": {},
   "source": [
    "Write function which creates array from 1000 elements, which are created by function random.random(), which generates random float number from 0 to 1. Then calculate mean value by formula $\\overline{x}=\\frac{1}{N}\\sum_{i=1}^Nx_i$ and standard deviation by formula $\\sigma=\\sqrt{\\frac{1}{N}\\sum_{i=1}^{N}(x_i-\\overline{x})^2}$ Function has to have 3 outputs: list of random numbers, mean and standard deviation and use this function to get results."
   ]
  },
  {
   "cell_type": "code",
   "execution_count": null,
   "metadata": {
    "collapsed": true
   },
   "outputs": [],
   "source": [
    "import random\n",
    "#you can generate random number using following code\n",
    "rnd_number=random.random()\n",
    "print(rnd_number)\n"
   ]
  }
 ],
 "metadata": {
  "kernelspec": {
   "display_name": "Python 3",
   "language": "python",
   "name": "python3"
  },
  "language_info": {
   "codemirror_mode": {
    "name": "ipython",
    "version": 3
   },
   "file_extension": ".py",
   "mimetype": "text/x-python",
   "name": "python",
   "nbconvert_exporter": "python",
   "pygments_lexer": "ipython3",
   "version": "3.6.0"
  }
 },
 "nbformat": 4,
 "nbformat_minor": 2
}
